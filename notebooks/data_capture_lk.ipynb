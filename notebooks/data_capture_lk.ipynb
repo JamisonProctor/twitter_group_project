{
 "cells": [
  {
   "cell_type": "markdown",
   "id": "a9463256-3db9-4cb1-8024-16fbad801b91",
   "metadata": {},
   "source": [
    "# Twitter Project - LK"
   ]
  },
  {
   "cell_type": "markdown",
   "id": "904b2a18-ab32-4c39-9de0-48bf70671378",
   "metadata": {},
   "source": [
    "### Import libraries"
   ]
  },
  {
   "cell_type": "code",
   "execution_count": 1,
   "id": "610e0080-adf8-4321-b62d-8a770e3cbb77",
   "metadata": {},
   "outputs": [],
   "source": [
    "%load_ext lab_black\n",
    "\n",
    "import configparser\n",
    "import tweepy\n",
    "import pandas as pd\n",
    "import json"
   ]
  },
  {
   "cell_type": "markdown",
   "id": "27f7e3f2-a0c3-49bd-94a8-fabe9eb5d6e3",
   "metadata": {},
   "source": [
    "### Authorization"
   ]
  },
  {
   "cell_type": "code",
   "execution_count": 2,
   "id": "8f4e427c-c21c-499b-a05d-d35b5970b95f",
   "metadata": {},
   "outputs": [],
   "source": [
    "# read config\n",
    "config = configparser.ConfigParser()\n",
    "config.read(\"config.ini\")\n",
    "\n",
    "api_key = config[\"twitter\"][\"api_key\"]\n",
    "api_key_secret = config[\"twitter\"][\"api_key_secret\"]\n",
    "\n",
    "access_token = config[\"twitter\"][\"access_token\"]\n",
    "access_token_secret = config[\"twitter\"][\"access_token_secret\"]\n",
    "\n",
    "# authenticate\n",
    "auth = tweepy.OAuthHandler(api_key, api_key_secret)\n",
    "auth.set_access_token(access_token, access_token_secret)\n",
    "\n",
    "api = tweepy.API(auth)"
   ]
  },
  {
   "cell_type": "markdown",
   "id": "b8fd3120-6a08-4865-ad0e-97621fae258e",
   "metadata": {},
   "source": [
    "### Search Tweets"
   ]
  },
  {
   "cell_type": "code",
   "execution_count": 3,
   "id": "59b67419-5f07-4a37-a6b4-9aecb1449386",
   "metadata": {},
   "outputs": [
    {
     "data": {
      "text/html": [
       "<div>\n",
       "<style scoped>\n",
       "    .dataframe tbody tr th:only-of-type {\n",
       "        vertical-align: middle;\n",
       "    }\n",
       "\n",
       "    .dataframe tbody tr th {\n",
       "        vertical-align: top;\n",
       "    }\n",
       "\n",
       "    .dataframe thead th {\n",
       "        text-align: right;\n",
       "    }\n",
       "</style>\n",
       "<table border=\"1\" class=\"dataframe\">\n",
       "  <thead>\n",
       "    <tr style=\"text-align: right;\">\n",
       "      <th></th>\n",
       "      <th>User</th>\n",
       "      <th>Tweet_time</th>\n",
       "      <th>Tweet</th>\n",
       "      <th>Hashtag</th>\n",
       "      <th>Retweet</th>\n",
       "      <th>Favorite</th>\n",
       "      <th>Join_time</th>\n",
       "      <th>Follower</th>\n",
       "      <th>Friend</th>\n",
       "    </tr>\n",
       "  </thead>\n",
       "  <tbody>\n",
       "    <tr>\n",
       "      <th>0</th>\n",
       "      <td>PrasherManik</td>\n",
       "      <td>2022-09-15 02:03:03+00:00</td>\n",
       "      <td>iPhone 12, iPhone 13 and iPhone 14 are exactly...</td>\n",
       "      <td>[{'text': 'iPhone', 'indices': [93, 100]}, {'t...</td>\n",
       "      <td>0</td>\n",
       "      <td>0</td>\n",
       "      <td>2021-04-22 11:41:31+00:00</td>\n",
       "      <td>23</td>\n",
       "      <td>562</td>\n",
       "    </tr>\n",
       "    <tr>\n",
       "      <th>1</th>\n",
       "      <td>MickLee93</td>\n",
       "      <td>2022-09-15 02:02:08+00:00</td>\n",
       "      <td>This is the quality content I put in @tiktok_u...</td>\n",
       "      <td>[{'text': 'iPhone14', 'indices': [50, 59]}, {'...</td>\n",
       "      <td>0</td>\n",
       "      <td>0</td>\n",
       "      <td>2010-11-29 02:27:28+00:00</td>\n",
       "      <td>69</td>\n",
       "      <td>134</td>\n",
       "    </tr>\n",
       "    <tr>\n",
       "      <th>2</th>\n",
       "      <td>KraifTweets</td>\n",
       "      <td>2022-09-15 02:01:26+00:00</td>\n",
       "      <td>ANNOUNCEMENT: Verizon has started shipping iPh...</td>\n",
       "      <td>[{'text': 'iphone14', 'indices': [109, 118]}, ...</td>\n",
       "      <td>0</td>\n",
       "      <td>0</td>\n",
       "      <td>2022-01-30 02:38:25+00:00</td>\n",
       "      <td>1558</td>\n",
       "      <td>58</td>\n",
       "    </tr>\n",
       "    <tr>\n",
       "      <th>3</th>\n",
       "      <td>Vedank__Panwar</td>\n",
       "      <td>2022-09-15 01:58:41+00:00</td>\n",
       "      <td>Do you call or text?\\n#technology #iPhone #iPh...</td>\n",
       "      <td>[{'text': 'technology', 'indices': [21, 32]}, ...</td>\n",
       "      <td>0</td>\n",
       "      <td>1</td>\n",
       "      <td>2020-09-30 05:07:58+00:00</td>\n",
       "      <td>63</td>\n",
       "      <td>56</td>\n",
       "    </tr>\n",
       "    <tr>\n",
       "      <th>4</th>\n",
       "      <td>cle0desktop</td>\n",
       "      <td>2022-09-15 01:58:15+00:00</td>\n",
       "      <td>Pure Black Blue Theme For Windows 11 \\nGet it ...</td>\n",
       "      <td>[{'text': 'Cleodesktop', 'indices': [75, 87]},...</td>\n",
       "      <td>1</td>\n",
       "      <td>0</td>\n",
       "      <td>2013-11-17 02:01:27+00:00</td>\n",
       "      <td>34882</td>\n",
       "      <td>173</td>\n",
       "    </tr>\n",
       "  </tbody>\n",
       "</table>\n",
       "</div>"
      ],
      "text/plain": [
       "             User                Tweet_time  \\\n",
       "0    PrasherManik 2022-09-15 02:03:03+00:00   \n",
       "1       MickLee93 2022-09-15 02:02:08+00:00   \n",
       "2     KraifTweets 2022-09-15 02:01:26+00:00   \n",
       "3  Vedank__Panwar 2022-09-15 01:58:41+00:00   \n",
       "4     cle0desktop 2022-09-15 01:58:15+00:00   \n",
       "\n",
       "                                               Tweet  \\\n",
       "0  iPhone 12, iPhone 13 and iPhone 14 are exactly...   \n",
       "1  This is the quality content I put in @tiktok_u...   \n",
       "2  ANNOUNCEMENT: Verizon has started shipping iPh...   \n",
       "3  Do you call or text?\\n#technology #iPhone #iPh...   \n",
       "4  Pure Black Blue Theme For Windows 11 \\nGet it ...   \n",
       "\n",
       "                                             Hashtag  Retweet  Favorite  \\\n",
       "0  [{'text': 'iPhone', 'indices': [93, 100]}, {'t...        0         0   \n",
       "1  [{'text': 'iPhone14', 'indices': [50, 59]}, {'...        0         0   \n",
       "2  [{'text': 'iphone14', 'indices': [109, 118]}, ...        0         0   \n",
       "3  [{'text': 'technology', 'indices': [21, 32]}, ...        0         1   \n",
       "4  [{'text': 'Cleodesktop', 'indices': [75, 87]},...        1         0   \n",
       "\n",
       "                  Join_time  Follower  Friend  \n",
       "0 2021-04-22 11:41:31+00:00        23     562  \n",
       "1 2010-11-29 02:27:28+00:00        69     134  \n",
       "2 2022-01-30 02:38:25+00:00      1558      58  \n",
       "3 2020-09-30 05:07:58+00:00        63      56  \n",
       "4 2013-11-17 02:01:27+00:00     34882     173  "
      ]
     },
     "execution_count": 3,
     "metadata": {},
     "output_type": "execute_result"
    }
   ],
   "source": [
    "### search by user\n",
    "# user = 'veritasium'\n",
    "# limit=300\n",
    "# tweets = tweepy.Cursor(api.user_timeline, screen_name=user, count=200, tweet_mode='extended').items(limit)\n",
    "\n",
    "### search by keyword or hashtag (works too for @user)\n",
    "keywords = \"#iPhone14Pro -filter:retweets\"\n",
    "limit = 1000\n",
    "tweets = tweepy.Cursor(\n",
    "    api.search_tweets, q=keywords, count=100, lang=\"en\", tweet_mode=\"extended\"\n",
    ").items(limit)\n",
    "\n",
    "### create DataFrame\n",
    "columns = [\n",
    "    \"User\",\n",
    "    \"Tweet_time\",\n",
    "    \"Tweet\",\n",
    "    \"Hashtag\",\n",
    "    \"Retweet\",\n",
    "    \"Favorite\",\n",
    "    \"Join_time\",\n",
    "    \"Follower\",\n",
    "    \"Friend\",\n",
    "]\n",
    "\n",
    "data = []\n",
    "\n",
    "for tweet in tweets:\n",
    "    data.append(\n",
    "        [\n",
    "            tweet.user.screen_name,\n",
    "            tweet.created_at,\n",
    "            tweet.full_text,\n",
    "            tweet.entities[\"hashtags\"],\n",
    "            tweet.retweet_count,\n",
    "            tweet.favorite_count,\n",
    "            tweet.user.created_at,\n",
    "            tweet.user.followers_count,\n",
    "            tweet.user.friends_count,\n",
    "        ]\n",
    "    )\n",
    "\n",
    "df = pd.DataFrame(data, columns=columns)\n",
    "\n",
    "df.head()"
   ]
  },
  {
   "cell_type": "code",
   "execution_count": 4,
   "id": "c3d390f0-0f82-4c1c-b0f5-13b00f0f8899",
   "metadata": {},
   "outputs": [
    {
     "data": {
      "text/plain": [
       "(1000, 9)"
      ]
     },
     "execution_count": 4,
     "metadata": {},
     "output_type": "execute_result"
    }
   ],
   "source": [
    "df.shape"
   ]
  },
  {
   "cell_type": "code",
   "execution_count": 5,
   "id": "cd01fd0c-ee44-4d64-8f28-6043d57456f6",
   "metadata": {},
   "outputs": [],
   "source": [
    "df.to_csv(\"iPhone14Pro_x1k.csv\")"
   ]
  }
 ],
 "metadata": {
  "kernelspec": {
   "display_name": "propulsion",
   "language": "python",
   "name": "propulsion"
  },
  "language_info": {
   "codemirror_mode": {
    "name": "ipython",
    "version": 3
   },
   "file_extension": ".py",
   "mimetype": "text/x-python",
   "name": "python",
   "nbconvert_exporter": "python",
   "pygments_lexer": "ipython3",
   "version": "3.10.4"
  }
 },
 "nbformat": 4,
 "nbformat_minor": 5
}
