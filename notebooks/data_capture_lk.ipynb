{
 "cells": [
  {
   "cell_type": "markdown",
   "id": "05ca18d6-ddb8-43c7-8a81-bbfb96e6b3a3",
   "metadata": {},
   "source": [
    "# Twitter Group Project"
   ]
  },
  {
   "cell_type": "code",
   "execution_count": null,
   "id": "c3bd94dc-1a70-4049-8838-d190fd4c44b8",
   "metadata": {},
   "outputs": [],
   "source": []
  }
 ],
 "metadata": {
  "kernelspec": {
   "display_name": "propulsion",
   "language": "python",
   "name": "propulsion"
  },
  "language_info": {
   "codemirror_mode": {
    "name": "ipython",
    "version": 3
   },
   "file_extension": ".py",
   "mimetype": "text/x-python",
   "name": "python",
   "nbconvert_exporter": "python",
   "pygments_lexer": "ipython3",
   "version": "3.10.6"
  }
 },
 "nbformat": 4,
 "nbformat_minor": 5
}
