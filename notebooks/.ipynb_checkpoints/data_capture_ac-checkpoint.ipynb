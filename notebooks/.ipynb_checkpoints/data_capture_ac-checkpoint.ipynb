{
 "cells": [
  {
   "cell_type": "code",
   "execution_count": 1,
   "id": "2a70e7d1-b2da-464b-a3b7-256f14f9e10f",
   "metadata": {},
   "outputs": [],
   "source": [
    "import pandas as pd\n",
    "import json\n",
    "from twython import Twython\n",
    "import tweepy\n",
    "import configparser\n"
   ]
  },
  {
   "cell_type": "code",
   "execution_count": 2,
   "id": "10dbb070-1033-4de7-91af-8233638faae0",
   "metadata": {},
   "outputs": [
    {
     "data": {
      "text/plain": [
       "['../../../config_ac.ini']"
      ]
     },
     "execution_count": 2,
     "metadata": {},
     "output_type": "execute_result"
    }
   ],
   "source": [
    "config=configparser.ConfigParser()\n",
    "config.read(\"../../../config_ac.ini\")"
   ]
  },
  {
   "cell_type": "code",
   "execution_count": 7,
   "id": "eebfd1ea-fb47-49fe-95e2-db14743447cb",
   "metadata": {},
   "outputs": [],
   "source": [
    "from sys import api_version\n",
    "api_key=config['twitter']['api_key']\n",
    "api_secret_key=config['twitter']['api_secret_key']\n",
    "access_token=config['twitter']['access_token']\n",
    "access_secret=config['twitter']['access_token_secret']\n",
    "\n",
    "# authenticate\n",
    "auth = tweepy.OAuthHandler(api_key, api_secret_key)\n",
    "auth.set_access_token(access_token, access_secret)\n",
    "\n",
    "api = tweepy.API(auth)"
   ]
  },
  {
   "cell_type": "code",
   "execution_count": 8,
   "id": "54aac76d-0af4-4824-a8a8-ef2fc0db8933",
   "metadata": {},
   "outputs": [
    {
     "data": {
      "text/html": [
       "<div>\n",
       "<style scoped>\n",
       "    .dataframe tbody tr th:only-of-type {\n",
       "        vertical-align: middle;\n",
       "    }\n",
       "\n",
       "    .dataframe tbody tr th {\n",
       "        vertical-align: top;\n",
       "    }\n",
       "\n",
       "    .dataframe thead th {\n",
       "        text-align: right;\n",
       "    }\n",
       "</style>\n",
       "<table border=\"1\" class=\"dataframe\">\n",
       "  <thead>\n",
       "    <tr style=\"text-align: right;\">\n",
       "      <th></th>\n",
       "      <th>User</th>\n",
       "      <th>Tweet_time</th>\n",
       "      <th>Tweet</th>\n",
       "      <th>Hashtag</th>\n",
       "      <th>Retweet</th>\n",
       "      <th>Favorite</th>\n",
       "      <th>Join_time</th>\n",
       "      <th>Follower</th>\n",
       "      <th>Friend</th>\n",
       "    </tr>\n",
       "  </thead>\n",
       "  <tbody>\n",
       "    <tr>\n",
       "      <th>0</th>\n",
       "      <td>WuKiana1</td>\n",
       "      <td>2022-09-15 07:50:04+00:00</td>\n",
       "      <td>pc material, anti yellow, waterproof.\\nAvailab...</td>\n",
       "      <td>[{'text': 'apple', 'indices': [60, 66]}, {'tex...</td>\n",
       "      <td>0</td>\n",
       "      <td>0</td>\n",
       "      <td>2022-07-15 01:51:10+00:00</td>\n",
       "      <td>0</td>\n",
       "      <td>6</td>\n",
       "    </tr>\n",
       "    <tr>\n",
       "      <th>1</th>\n",
       "      <td>corpernews</td>\n",
       "      <td>2022-09-15 07:47:17+00:00</td>\n",
       "      <td>Few amongst the features of the new IOS 16, ha...</td>\n",
       "      <td>[{'text': 'ios16', 'indices': [91, 97]}, {'tex...</td>\n",
       "      <td>1</td>\n",
       "      <td>2</td>\n",
       "      <td>2021-08-18 00:45:57+00:00</td>\n",
       "      <td>141</td>\n",
       "      <td>393</td>\n",
       "    </tr>\n",
       "    <tr>\n",
       "      <th>2</th>\n",
       "      <td>Hina_honey27</td>\n",
       "      <td>2022-09-15 07:38:52+00:00</td>\n",
       "      <td>Every year this apple launches iphone to make ...</td>\n",
       "      <td>[{'text': 'iPhone', 'indices': [81, 88]}, {'te...</td>\n",
       "      <td>0</td>\n",
       "      <td>1</td>\n",
       "      <td>2021-07-08 21:05:20+00:00</td>\n",
       "      <td>3100</td>\n",
       "      <td>4991</td>\n",
       "    </tr>\n",
       "    <tr>\n",
       "      <th>3</th>\n",
       "      <td>qiandutech11</td>\n",
       "      <td>2022-09-15 07:26:42+00:00</td>\n",
       "      <td>Are you looking for the new design phone cases...</td>\n",
       "      <td>[{'text': 'iphone14', 'indices': [68, 77]}, {'...</td>\n",
       "      <td>0</td>\n",
       "      <td>0</td>\n",
       "      <td>2021-10-30 01:00:46+00:00</td>\n",
       "      <td>3</td>\n",
       "      <td>26</td>\n",
       "    </tr>\n",
       "    <tr>\n",
       "      <th>4</th>\n",
       "      <td>torro_uk</td>\n",
       "      <td>2022-09-15 07:26:40+00:00</td>\n",
       "      <td>Expecting an iPhone 14 delivery tomorrow? Don’...</td>\n",
       "      <td>[{'text': 'iphone14', 'indices': [163, 172]}, ...</td>\n",
       "      <td>0</td>\n",
       "      <td>0</td>\n",
       "      <td>2013-03-18 19:56:37+00:00</td>\n",
       "      <td>4886</td>\n",
       "      <td>993</td>\n",
       "    </tr>\n",
       "  </tbody>\n",
       "</table>\n",
       "</div>"
      ],
      "text/plain": [
       "           User                Tweet_time  \\\n",
       "0      WuKiana1 2022-09-15 07:50:04+00:00   \n",
       "1    corpernews 2022-09-15 07:47:17+00:00   \n",
       "2  Hina_honey27 2022-09-15 07:38:52+00:00   \n",
       "3  qiandutech11 2022-09-15 07:26:42+00:00   \n",
       "4      torro_uk 2022-09-15 07:26:40+00:00   \n",
       "\n",
       "                                               Tweet  \\\n",
       "0  pc material, anti yellow, waterproof.\\nAvailab...   \n",
       "1  Few amongst the features of the new IOS 16, ha...   \n",
       "2  Every year this apple launches iphone to make ...   \n",
       "3  Are you looking for the new design phone cases...   \n",
       "4  Expecting an iPhone 14 delivery tomorrow? Don’...   \n",
       "\n",
       "                                             Hashtag  Retweet  Favorite  \\\n",
       "0  [{'text': 'apple', 'indices': [60, 66]}, {'tex...        0         0   \n",
       "1  [{'text': 'ios16', 'indices': [91, 97]}, {'tex...        1         2   \n",
       "2  [{'text': 'iPhone', 'indices': [81, 88]}, {'te...        0         1   \n",
       "3  [{'text': 'iphone14', 'indices': [68, 77]}, {'...        0         0   \n",
       "4  [{'text': 'iphone14', 'indices': [163, 172]}, ...        0         0   \n",
       "\n",
       "                  Join_time  Follower  Friend  \n",
       "0 2022-07-15 01:51:10+00:00         0       6  \n",
       "1 2021-08-18 00:45:57+00:00       141     393  \n",
       "2 2021-07-08 21:05:20+00:00      3100    4991  \n",
       "3 2021-10-30 01:00:46+00:00         3      26  \n",
       "4 2013-03-18 19:56:37+00:00      4886     993  "
      ]
     },
     "execution_count": 8,
     "metadata": {},
     "output_type": "execute_result"
    }
   ],
   "source": [
    "### search by user\n",
    "# user = 'veritasium'\n",
    "# limit=300\n",
    "# tweets = tweepy.Cursor(api.user_timeline, screen_name=user, count=200, tweet_mode='extended').items(limit)\n",
    "\n",
    "### search by keyword or hashtag (works too for @user)\n",
    "keywords = \"#iPhone14Pro -filter:retweets\"\n",
    "limit = 10000\n",
    "tweets = tweepy.Cursor(\n",
    "    api.search_tweets, q=keywords, count=100, lang=\"en\", tweet_mode=\"extended\"\n",
    ").items(limit)\n",
    "\n",
    "### create DataFrame\n",
    "columns = [\n",
    "    \"User\",\n",
    "    \"Tweet_time\",\n",
    "    \"Tweet\",\n",
    "    \"Hashtag\",\n",
    "    \"Retweet\",\n",
    "    \"Favorite\",\n",
    "    \"Join_time\",\n",
    "    \"Follower\",\n",
    "    \"Friend\",\n",
    "]\n",
    "\n",
    "data = []\n",
    "\n",
    "for tweet in tweets:\n",
    "    data.append(\n",
    "        [\n",
    "            tweet.user.screen_name,\n",
    "            tweet.created_at,\n",
    "            tweet.full_text,\n",
    "            tweet.entities[\"hashtags\"],\n",
    "            tweet.retweet_count,\n",
    "            tweet.favorite_count,\n",
    "            tweet.user.created_at,\n",
    "            tweet.user.followers_count,\n",
    "            tweet.user.friends_count,\n",
    "        ]\n",
    "    )\n",
    "\n",
    "df = pd.DataFrame(data, columns=columns)\n",
    "\n",
    "df.head()"
   ]
  },
  {
   "cell_type": "code",
   "execution_count": 10,
   "id": "4ea26d1e-13d9-4119-a81d-c744898d327c",
   "metadata": {},
   "outputs": [
    {
     "data": {
      "text/plain": [
       "(10000, 9)"
      ]
     },
     "execution_count": 10,
     "metadata": {},
     "output_type": "execute_result"
    }
   ],
   "source": [
    "df.shape"
   ]
  },
  {
   "cell_type": "code",
   "execution_count": 11,
   "id": "324a90e4-83a2-4cd8-8989-6f5788c062ae",
   "metadata": {},
   "outputs": [],
   "source": [
    "df.to_csv(\"iPhone14Pro_x10k.csv\")"
   ]
  },
  {
   "cell_type": "code",
   "execution_count": null,
   "id": "993d4d3e-8388-419c-bb27-2287c2524bdf",
   "metadata": {},
   "outputs": [],
   "source": []
  },
  {
   "cell_type": "code",
   "execution_count": null,
   "id": "30a75798-c643-4896-a6b2-7d07b6623480",
   "metadata": {},
   "outputs": [],
   "source": []
  }
 ],
 "metadata": {
  "kernelspec": {
   "display_name": "Python 3 (ipykernel)",
   "language": "python",
   "name": "python3"
  },
  "language_info": {
   "codemirror_mode": {
    "name": "ipython",
    "version": 3
   },
   "file_extension": ".py",
   "mimetype": "text/x-python",
   "name": "python",
   "nbconvert_exporter": "python",
   "pygments_lexer": "ipython3",
   "version": "3.9.12"
  }
 },
 "nbformat": 4,
 "nbformat_minor": 5
}
