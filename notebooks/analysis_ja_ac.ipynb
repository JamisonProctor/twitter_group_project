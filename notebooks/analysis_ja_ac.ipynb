{
 "cells": [
  {
   "cell_type": "markdown",
   "metadata": {},
   "source": [
    "User\n",
    "- Total unique tweeters\n",
    "- Are there any super tweeters? \n",
    "- Retweeters? \n",
    "- Retweeted users? Maybe not possible. \n",
    "- 14 vs 14Pro\n",
    "- Is there overlap in the sets? \n",
    "\n",
    "Time\n",
    "- Total tweets over time\n",
    "- 24hour period comparsion tweets per hour of day\n"
   ]
  },
  {
   "cell_type": "code",
   "execution_count": 2,
   "metadata": {},
   "outputs": [],
   "source": [
    "#import libraries \n",
    "import numpy as np\n",
    "import pandas as pd\n",
    "import matplotlib as mpl\n",
    "import csv\n"
   ]
  },
  {
   "cell_type": "code",
   "execution_count": 3,
   "metadata": {},
   "outputs": [
    {
     "data": {
      "text/html": [
       "<div>\n",
       "<style scoped>\n",
       "    .dataframe tbody tr th:only-of-type {\n",
       "        vertical-align: middle;\n",
       "    }\n",
       "\n",
       "    .dataframe tbody tr th {\n",
       "        vertical-align: top;\n",
       "    }\n",
       "\n",
       "    .dataframe thead th {\n",
       "        text-align: right;\n",
       "    }\n",
       "</style>\n",
       "<table border=\"1\" class=\"dataframe\">\n",
       "  <thead>\n",
       "    <tr style=\"text-align: right;\">\n",
       "      <th></th>\n",
       "      <th>Unnamed: 0</th>\n",
       "      <th>User</th>\n",
       "      <th>DateTime</th>\n",
       "      <th>Tweet</th>\n",
       "    </tr>\n",
       "  </thead>\n",
       "  <tbody>\n",
       "    <tr>\n",
       "      <th>0</th>\n",
       "      <td>0</td>\n",
       "      <td>bosesubash56</td>\n",
       "      <td>2022-09-14 14:17:04+00:00</td>\n",
       "      <td>@WS_MobileTrans #nothingchangedaftertransfer a...</td>\n",
       "    </tr>\n",
       "    <tr>\n",
       "      <th>1</th>\n",
       "      <td>1</td>\n",
       "      <td>you_swerve</td>\n",
       "      <td>2022-09-14 14:15:18+00:00</td>\n",
       "      <td>RT @insanetweet: iPhone 8 while upgrading to i...</td>\n",
       "    </tr>\n",
       "    <tr>\n",
       "      <th>2</th>\n",
       "      <td>2</td>\n",
       "      <td>MarkVenaTechGuy</td>\n",
       "      <td>2022-09-14 14:13:51+00:00</td>\n",
       "      <td>My #SmartTechCheck newsletter thoughts about t...</td>\n",
       "    </tr>\n",
       "    <tr>\n",
       "      <th>3</th>\n",
       "      <td>3</td>\n",
       "      <td>WinPhanKyle</td>\n",
       "      <td>2022-09-14 14:13:16+00:00</td>\n",
       "      <td>RT @saradietschy: #iPhone14 Unboxing time!! Go...</td>\n",
       "    </tr>\n",
       "    <tr>\n",
       "      <th>4</th>\n",
       "      <td>4</td>\n",
       "      <td>zaheenhafzer</td>\n",
       "      <td>2022-09-14 14:13:04+00:00</td>\n",
       "      <td>RT @zollotech: But first the cases…#iphone14\\n...</td>\n",
       "    </tr>\n",
       "  </tbody>\n",
       "</table>\n",
       "</div>"
      ],
      "text/plain": [
       "   Unnamed: 0             User                   DateTime  \\\n",
       "0           0     bosesubash56  2022-09-14 14:17:04+00:00   \n",
       "1           1       you_swerve  2022-09-14 14:15:18+00:00   \n",
       "2           2  MarkVenaTechGuy  2022-09-14 14:13:51+00:00   \n",
       "3           3      WinPhanKyle  2022-09-14 14:13:16+00:00   \n",
       "4           4     zaheenhafzer  2022-09-14 14:13:04+00:00   \n",
       "\n",
       "                                               Tweet  \n",
       "0  @WS_MobileTrans #nothingchangedaftertransfer a...  \n",
       "1  RT @insanetweet: iPhone 8 while upgrading to i...  \n",
       "2  My #SmartTechCheck newsletter thoughts about t...  \n",
       "3  RT @saradietschy: #iPhone14 Unboxing time!! Go...  \n",
       "4  RT @zollotech: But first the cases…#iphone14\\n...  "
      ]
     },
     "execution_count": 3,
     "metadata": {},
     "output_type": "execute_result"
    }
   ],
   "source": [
    "#load data for #iPhone14\n",
    "\n",
    "with open('../data/raw/iPhone14x10k_RAW.csv') as csv_file:\n",
    "    df1 = pd.read_csv(csv_file)\n",
    "\n",
    "df1.head()"
   ]
  },
  {
   "cell_type": "code",
   "execution_count": 4,
   "metadata": {},
   "outputs": [
    {
     "data": {
      "text/html": [
       "<div>\n",
       "<style scoped>\n",
       "    .dataframe tbody tr th:only-of-type {\n",
       "        vertical-align: middle;\n",
       "    }\n",
       "\n",
       "    .dataframe tbody tr th {\n",
       "        vertical-align: top;\n",
       "    }\n",
       "\n",
       "    .dataframe thead th {\n",
       "        text-align: right;\n",
       "    }\n",
       "</style>\n",
       "<table border=\"1\" class=\"dataframe\">\n",
       "  <thead>\n",
       "    <tr style=\"text-align: right;\">\n",
       "      <th></th>\n",
       "      <th>Unnamed: 0</th>\n",
       "      <th>User</th>\n",
       "      <th>DateTime</th>\n",
       "      <th>Tweet</th>\n",
       "    </tr>\n",
       "  </thead>\n",
       "  <tbody>\n",
       "    <tr>\n",
       "      <th>0</th>\n",
       "      <td>0</td>\n",
       "      <td>1202tung</td>\n",
       "      <td>2022-09-14 14:48:27+00:00</td>\n",
       "      <td>RT @insanetweet: iPhone 8 while upgrading to i...</td>\n",
       "    </tr>\n",
       "    <tr>\n",
       "      <th>1</th>\n",
       "      <td>1</td>\n",
       "      <td>Rushike74038427</td>\n",
       "      <td>2022-09-14 14:48:05+00:00</td>\n",
       "      <td>I want this case @Mrwhosetheboss \\n#iphone14pr...</td>\n",
       "    </tr>\n",
       "    <tr>\n",
       "      <th>2</th>\n",
       "      <td>2</td>\n",
       "      <td>papsobu</td>\n",
       "      <td>2022-09-14 14:47:40+00:00</td>\n",
       "      <td>RT @insanetweet: iPhone 8 while upgrading to i...</td>\n",
       "    </tr>\n",
       "    <tr>\n",
       "      <th>3</th>\n",
       "      <td>3</td>\n",
       "      <td>_kayrozenlang</td>\n",
       "      <td>2022-09-14 14:47:27+00:00</td>\n",
       "      <td>RT @btslabs_global: 🏆Win iPhone14 Pro\\n\\nWith ...</td>\n",
       "    </tr>\n",
       "    <tr>\n",
       "      <th>4</th>\n",
       "      <td>4</td>\n",
       "      <td>SarenDebnath</td>\n",
       "      <td>2022-09-14 14:46:41+00:00</td>\n",
       "      <td>RT @btslabs_global: 🏆Win iPhone14 Pro\\n\\nWith ...</td>\n",
       "    </tr>\n",
       "  </tbody>\n",
       "</table>\n",
       "</div>"
      ],
      "text/plain": [
       "   Unnamed: 0             User                   DateTime  \\\n",
       "0           0         1202tung  2022-09-14 14:48:27+00:00   \n",
       "1           1  Rushike74038427  2022-09-14 14:48:05+00:00   \n",
       "2           2          papsobu  2022-09-14 14:47:40+00:00   \n",
       "3           3    _kayrozenlang  2022-09-14 14:47:27+00:00   \n",
       "4           4     SarenDebnath  2022-09-14 14:46:41+00:00   \n",
       "\n",
       "                                               Tweet  \n",
       "0  RT @insanetweet: iPhone 8 while upgrading to i...  \n",
       "1  I want this case @Mrwhosetheboss \\n#iphone14pr...  \n",
       "2  RT @insanetweet: iPhone 8 while upgrading to i...  \n",
       "3  RT @btslabs_global: 🏆Win iPhone14 Pro\\n\\nWith ...  \n",
       "4  RT @btslabs_global: 🏆Win iPhone14 Pro\\n\\nWith ...  "
      ]
     },
     "execution_count": 4,
     "metadata": {},
     "output_type": "execute_result"
    }
   ],
   "source": [
    "#load data for #iPhone14Pro\n",
    "\n",
    "with open('../data/raw/iPhone14Prox10k_RAW.csv') as csv_file:\n",
    "    dfPro = pd.read_csv(csv_file)\n",
    "\n",
    "dfPro.head()"
   ]
  },
  {
   "cell_type": "code",
   "execution_count": 19,
   "metadata": {},
   "outputs": [
    {
     "name": "stdout",
     "output_type": "stream",
     "text": [
      "85% of the #iPhone14 tweets were from unique users.\n"
     ]
    }
   ],
   "source": [
    "#Total unique tweeters for #iPhone14\n",
    "phone = '#iPhone14'\n",
    "total_tweeters = df1['User'].count()\n",
    "num_uni = df1['User'].nunique()\n",
    "\n",
    "print(f'{round((num_uni / total_tweeters)*100)}% of the {phone} tweets were from unique users.')\n"
   ]
  },
  {
   "cell_type": "code",
   "execution_count": 18,
   "metadata": {},
   "outputs": [
    {
     "name": "stdout",
     "output_type": "stream",
     "text": [
      "87% of the #iPhone14Pro tweets were from unique users.\n"
     ]
    }
   ],
   "source": [
    "#Total unique tweeters for #iPhone14Pro\n",
    "phone = '#iPhone14Pro'\n",
    "total_tweeters_pro = dfPro['User'].count()\n",
    "num_uni_pro = dfPro['User'].nunique()\n",
    "\n",
    "print(f'{round((num_uni_pro / total_tweeters_pro)*100)}% of the {phone} tweets were from unique users.')"
   ]
  },
  {
   "cell_type": "code",
   "execution_count": 115,
   "metadata": {},
   "outputs": [
    {
     "name": "stdout",
     "output_type": "stream",
     "text": [
      "'Rokibul60100130' had the most tweets with 1.6% of all tweets about #iPhone14\n"
     ]
    }
   ],
   "source": [
    "#Are there any super tweeters? \n",
    "phone = '#iPhone14'\n",
    "\n",
    "df1_user_tweet_count = df1.groupby('User').agg('count').sort_values('Tweet', ascending=False).reset_index()\n",
    "df1_user_tweet_count['of_total'] = (df1_user_tweet_count['Tweet'] / 10000) * 100 \n",
    "top_tweeter = df1_user_tweet_count['User'][0]\n",
    "top_tweeter_percent = df1_user_tweet_count['of_total'][0]\n",
    "\n",
    "print(f'\\'{top_tweeter}\\' had the most tweets with {top_tweeter_percent}% of all tweets about {phone}')"
   ]
  },
  {
   "cell_type": "code",
   "execution_count": 95,
   "metadata": {},
   "outputs": [
    {
     "name": "stdout",
     "output_type": "stream",
     "text": [
      "'thebbmafrica' had the most tweets with 0.63% of all tweets about #iPhone14Pro\n"
     ]
    }
   ],
   "source": [
    "phone = '#iPhone14Pro'\n",
    "\n",
    "dfPro_user_tweet_count = dfPro.groupby('User').agg('count').sort_values('Tweet', ascending=False).reset_index()\n",
    "dfPro_user_tweet_count['of_total'] = (dfPro_user_tweet_count['Tweet'] / 10000) * 100 \n",
    "top_tweeter = dfPro_user_tweet_count['User'][0]\n",
    "top_tweeter_percent = dfPro_user_tweet_count['of_total'][0]\n",
    "\n",
    "print(f'\\'{top_tweeter}\\' had the most tweets with {top_tweeter_percent}% of all tweets about {phone}')"
   ]
  },
  {
   "cell_type": "code",
   "execution_count": 116,
   "metadata": {},
   "outputs": [
    {
     "data": {
      "text/plain": [
       "<AxesSubplot:xlabel='User'>"
      ]
     },
     "execution_count": 116,
     "metadata": {},
     "output_type": "execute_result"
    },
    {
     "data": {
      "image/png": "[encoded data removed]",
      "text/plain": [
       "<Figure size 432x288 with 1 Axes>"
      ]
     },
     "metadata": {
      "needs_background": "light"
     },
     "output_type": "display_data"
    }
   ],
   "source": [
    "df1_bar = df1_user_tweet_count.drop(['Unnamed: 0', 'DateTime', 'of_total'], axis=1).head(30)\n",
    "#dfPro_hist = dfPro_hist.set_index('User')\n",
    "df1_bar.plot.bar(x='User', y='Tweet')"
   ]
  },
  {
   "cell_type": "code",
   "execution_count": 113,
   "metadata": {},
   "outputs": [
    {
     "data": {
      "text/plain": [
       "<AxesSubplot:xlabel='User'>"
      ]
     },
     "execution_count": 113,
     "metadata": {},
     "output_type": "execute_result"
    },
    {
     "data": {
      "image/png": "[encoded data removed]",
      "text/plain": [
       "<Figure size 432x288 with 1 Axes>"
      ]
     },
     "metadata": {
      "needs_background": "light"
     },
     "output_type": "display_data"
    }
   ],
   "source": [
    "dfPro_bar = dfPro_user_tweet_count.drop(['Unnamed: 0', 'DateTime', 'of_total'], axis=1).head(30)\n",
    "#dfPro_hist = dfPro_hist.set_index('User')\n",
    "dfPro_bar.plot.bar(x='User', y='Tweet')\n"
   ]
  }
 ],
 "metadata": {
  "kernelspec": {
   "display_name": "VIZ",
   "language": "python",
   "name": "viz"
  },
  "language_info": {
   "codemirror_mode": {
    "name": "ipython",
    "version": 3
   },
   "file_extension": ".py",
   "mimetype": "text/x-python",
   "name": "python",
   "nbconvert_exporter": "python",
   "pygments_lexer": "ipython3",
   "version": "3.10.4"
  },
  "orig_nbformat": 4
 },
 "nbformat": 4,
 "nbformat_minor": 2
}
