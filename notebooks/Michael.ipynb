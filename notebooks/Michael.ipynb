{
 "cells": [
  {
   "cell_type": "markdown",
   "id": "da39c100-f458-41a0-806e-22edc2bf7a5a",
   "metadata": {},
   "source": [
    "# Twitter API Scraping"
   ]
  },
  {
   "cell_type": "markdown",
   "id": "701f5f3c-c1c3-4754-8c8b-1b86e590bdf2",
   "metadata": {},
   "source": [
    "### Stuff to load"
   ]
  },
  {
   "cell_type": "code",
   "execution_count": 3,
   "id": "bcbe2c38-2dad-4434-8090-ab5e139feb03",
   "metadata": {},
   "outputs": [],
   "source": [
    "# auto reload packages and modules when they are modified\n",
    "%load_ext autoreload\n",
    "%autoreload 2\n",
    "# draw matplotlib plots in line\n",
    "%matplotlib inline\n",
    "# enforce PEP 8 code on jupyter lab ...\n",
    "%load_ext lab_black\n",
    "# ... or jupyter notebook\n",
    "# %load_ext nb_black"
   ]
  },
  {
   "cell_type": "markdown",
   "id": "d4a4704b-d7aa-43cc-9b7b-2c95d1875f3b",
   "metadata": {},
   "source": [
    "### Packages to load"
   ]
  },
  {
   "cell_type": "code",
   "execution_count": 4,
   "id": "5be13612-cf06-43a1-a912-d0140ebaacc0",
   "metadata": {},
   "outputs": [],
   "source": [
    "# xxx\n",
    "import pandas as pd\n",
    "import numpy as np\n",
    "\n",
    "# Visualization\n",
    "import seaborn as sns\n",
    "import matplotlib.pyplot as plt"
   ]
  },
  {
   "cell_type": "code",
   "execution_count": null,
   "id": "6fca3ba1-363c-4ed3-b634-222941a94e3b",
   "metadata": {},
   "outputs": [],
   "source": []
  }
 ],
 "metadata": {
  "kernelspec": {
   "display_name": "propulsion",
   "language": "python",
   "name": "propulsion"
  },
  "language_info": {
   "codemirror_mode": {
    "name": "ipython",
    "version": 3
   },
   "file_extension": ".py",
   "mimetype": "text/x-python",
   "name": "python",
   "nbconvert_exporter": "python",
   "pygments_lexer": "ipython3",
   "version": "3.9.13"
  }
 },
 "nbformat": 4,
 "nbformat_minor": 5
}
